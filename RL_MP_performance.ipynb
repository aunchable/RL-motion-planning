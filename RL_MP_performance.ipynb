{
 "cells": [
  {
   "cell_type": "code",
   "execution_count": 28,
   "metadata": {
    "collapsed": false
   },
   "outputs": [],
   "source": [
    "import numpy as np\n",
    "import matplotlib.pyplot as plt\n",
    "%matplotlib inline"
   ]
  },
  {
   "cell_type": "code",
   "execution_count": 138,
   "metadata": {
    "collapsed": false
   },
   "outputs": [
    {
     "name": "stdout",
     "output_type": "stream",
     "text": [
      "-80.4093820352\n"
     ]
    },
    {
     "data": {
      "image/png": "[encoded data removed]",
      "text/plain": [
       "<matplotlib.figure.Figure at 0x10921ef50>"
      ]
     },
     "metadata": {},
     "output_type": "display_data"
    }
   ],
   "source": [
    "data = np.loadtxt(\"./logging/logs3.txt\",delimiter=\",\")\n",
    "print(np.mean(data[:, 0]))\n",
    "plt.plot(data[:,0])\n",
    "plt.title(\"Reward Per Episode\")\n",
    "plt.xlabel(\"Episode\")\n",
    "plt.ylabel(\"Reward\")\n",
    "# plt.show()\n",
    "plt.savefig(\"reward1.png\")\n",
    "plt.close()\n",
    "plt.plot(data[:,0][0:100])\n",
    "plt.title(\"Reward Per Episode\")\n",
    "plt.xlabel(\"Episode\")\n",
    "plt.ylabel(\"Reward\")\n",
    "# plt.show()\n",
    "plt.savefig(\"reward2.png\")\n",
    "plt.close()\n",
    "plt.plot(data[:,1])\n",
    "plt.title(\"Average Predicted $Q$ Value\")\n",
    "plt.xlabel(\"Episode\")\n",
    "plt.ylabel(\"Average $Q$\")\n",
    "# plt.show()\n",
    "plt.savefig(\"Q.png\")\n",
    "plt.close()\n",
    "plt.plot(data[:,2])\n",
    "plt.title(\"Average $Q$ Network Loss\")\n",
    "plt.xlabel(\"Episode\")\n",
    "plt.ylabel(\"Average $Q$ Loss\")\n",
    "# plt.show()\n",
    "plt.savefig(\"loss.png\")\n",
    "plt.close()\n",
    "\n",
    "plt.plot(data[:,3])\n",
    "plt.show()"
   ]
  },
  {
   "cell_type": "code",
   "execution_count": null,
   "metadata": {
    "collapsed": true
   },
   "outputs": [],
   "source": []
  },
  {
   "cell_type": "markdown",
   "metadata": {},
   "source": []
  }
 ],
 "metadata": {
  "anaconda-cloud": {},
  "kernelspec": {
   "display_name": "Python [conda env:py27]",
   "language": "python",
   "name": "conda-env-py27-py"
  },
  "language_info": {
   "codemirror_mode": {
    "name": "ipython",
    "version": 2
   },
   "file_extension": ".py",
   "mimetype": "text/x-python",
   "name": "python",
   "nbconvert_exporter": "python",
   "pygments_lexer": "ipython2",
   "version": "2.7.12"
  }
 },
 "nbformat": 4,
 "nbformat_minor": 1
}
